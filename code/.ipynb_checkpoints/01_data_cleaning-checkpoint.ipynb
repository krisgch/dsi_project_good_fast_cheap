{
 "cells": [
  {
   "cell_type": "markdown",
   "id": "9c0379eb-5c7f-4fc2-b9fe-47be8539e519",
   "metadata": {},
   "source": [
    "# GOOD FAST CHEAP - Feature Constraint"
   ]
  },
  {
   "cell_type": "markdown",
   "id": "e82823b4-54b7-4957-ab1d-517bed2cb661",
   "metadata": {},
   "source": [
    "## Import Libraries"
   ]
  },
  {
   "cell_type": "code",
   "execution_count": 1,
   "id": "b715ae52-8337-483a-b804-7c91c32ae77a",
   "metadata": {},
   "outputs": [],
   "source": [
    "import pandas as pd\n",
    "import numpy as np\n",
    "import seaborn as sns\n",
    "import matplotlib.pyplot as plt\n",
    "import missingno as msno\n",
    "\n",
    "from sklearn.linear_model import LogisticRegression\n",
    "from sklearn.datasets import make_classification\n",
    "from sklearn.preprocessing import StandardScaler\n",
    "from sklearn.model_selection import train_test_split, GridSearchCV\n",
    "from sklearn.metrics import classification_report, confusion_matrix, \\\n",
    "ConfusionMatrixDisplay\n",
    "\n",
    "from tensorflow.keras.models import Sequential\n",
    "from tensorflow.keras.layers import Dense\n",
    "from tensorflow.keras.utils import to_categorical\n",
    "\n",
    "from xgboost import XGBClassifier"
   ]
  },
  {
   "cell_type": "markdown",
   "id": "a4ee7ab8-7bcc-49fd-93a1-9f18179a8e97",
   "metadata": {},
   "source": [
    "## Read Data"
   ]
  },
  {
   "cell_type": "code",
   "execution_count": 2,
   "id": "f7095712-2ab9-4db0-ba9b-8a660a87a0f1",
   "metadata": {},
   "outputs": [],
   "source": [
    "# Read the data\n",
    "df = pd.read_csv('../data/large_train_sample.csv')"
   ]
  },
  {
   "cell_type": "code",
   "execution_count": 3,
   "id": "dbeef19c-bed2-40a9-8c87-cdeea3993b87",
   "metadata": {},
   "outputs": [
    {
     "data": {
      "text/html": [
       "<div>\n",
       "<style scoped>\n",
       "    .dataframe tbody tr th:only-of-type {\n",
       "        vertical-align: middle;\n",
       "    }\n",
       "\n",
       "    .dataframe tbody tr th {\n",
       "        vertical-align: top;\n",
       "    }\n",
       "\n",
       "    .dataframe thead th {\n",
       "        text-align: right;\n",
       "    }\n",
       "</style>\n",
       "<table border=\"1\" class=\"dataframe\">\n",
       "  <thead>\n",
       "    <tr style=\"text-align: right;\">\n",
       "      <th></th>\n",
       "      <th>age</th>\n",
       "      <th>workclass</th>\n",
       "      <th>fnlwgt</th>\n",
       "      <th>education</th>\n",
       "      <th>education-num</th>\n",
       "      <th>marital-status</th>\n",
       "      <th>occupation</th>\n",
       "      <th>relationship</th>\n",
       "      <th>sex</th>\n",
       "      <th>capital-gain</th>\n",
       "      <th>capital-loss</th>\n",
       "      <th>hours-per-week</th>\n",
       "      <th>native-country</th>\n",
       "      <th>wage</th>\n",
       "    </tr>\n",
       "  </thead>\n",
       "  <tbody>\n",
       "    <tr>\n",
       "      <th>0</th>\n",
       "      <td>39</td>\n",
       "      <td>State-gov</td>\n",
       "      <td>77516</td>\n",
       "      <td>Bachelors</td>\n",
       "      <td>13</td>\n",
       "      <td>Never-married</td>\n",
       "      <td>Adm-clerical</td>\n",
       "      <td>Not-in-family</td>\n",
       "      <td>Male</td>\n",
       "      <td>2174</td>\n",
       "      <td>0</td>\n",
       "      <td>40</td>\n",
       "      <td>United-States</td>\n",
       "      <td>&lt;=50K</td>\n",
       "    </tr>\n",
       "    <tr>\n",
       "      <th>1</th>\n",
       "      <td>50</td>\n",
       "      <td>Self-emp-not-inc</td>\n",
       "      <td>83311</td>\n",
       "      <td>Bachelors</td>\n",
       "      <td>13</td>\n",
       "      <td>Married-civ-spouse</td>\n",
       "      <td>Exec-managerial</td>\n",
       "      <td>Husband</td>\n",
       "      <td>Male</td>\n",
       "      <td>0</td>\n",
       "      <td>0</td>\n",
       "      <td>13</td>\n",
       "      <td>United-States</td>\n",
       "      <td>&lt;=50K</td>\n",
       "    </tr>\n",
       "    <tr>\n",
       "      <th>2</th>\n",
       "      <td>38</td>\n",
       "      <td>Private</td>\n",
       "      <td>215646</td>\n",
       "      <td>HS-grad</td>\n",
       "      <td>9</td>\n",
       "      <td>Divorced</td>\n",
       "      <td>Handlers-cleaners</td>\n",
       "      <td>Not-in-family</td>\n",
       "      <td>Male</td>\n",
       "      <td>0</td>\n",
       "      <td>0</td>\n",
       "      <td>40</td>\n",
       "      <td>United-States</td>\n",
       "      <td>&lt;=50K</td>\n",
       "    </tr>\n",
       "    <tr>\n",
       "      <th>3</th>\n",
       "      <td>53</td>\n",
       "      <td>Private</td>\n",
       "      <td>234721</td>\n",
       "      <td>11th</td>\n",
       "      <td>7</td>\n",
       "      <td>Married-civ-spouse</td>\n",
       "      <td>Handlers-cleaners</td>\n",
       "      <td>Husband</td>\n",
       "      <td>Male</td>\n",
       "      <td>0</td>\n",
       "      <td>0</td>\n",
       "      <td>40</td>\n",
       "      <td>United-States</td>\n",
       "      <td>&lt;=50K</td>\n",
       "    </tr>\n",
       "    <tr>\n",
       "      <th>4</th>\n",
       "      <td>28</td>\n",
       "      <td>Private</td>\n",
       "      <td>338409</td>\n",
       "      <td>Bachelors</td>\n",
       "      <td>13</td>\n",
       "      <td>Married-civ-spouse</td>\n",
       "      <td>Prof-specialty</td>\n",
       "      <td>Wife</td>\n",
       "      <td>Female</td>\n",
       "      <td>0</td>\n",
       "      <td>0</td>\n",
       "      <td>40</td>\n",
       "      <td>Cuba</td>\n",
       "      <td>&lt;=50K</td>\n",
       "    </tr>\n",
       "  </tbody>\n",
       "</table>\n",
       "</div>"
      ],
      "text/plain": [
       "   age          workclass  fnlwgt   education  education-num  \\\n",
       "0   39          State-gov   77516   Bachelors             13   \n",
       "1   50   Self-emp-not-inc   83311   Bachelors             13   \n",
       "2   38            Private  215646     HS-grad              9   \n",
       "3   53            Private  234721        11th              7   \n",
       "4   28            Private  338409   Bachelors             13   \n",
       "\n",
       "        marital-status          occupation    relationship      sex  \\\n",
       "0        Never-married        Adm-clerical   Not-in-family     Male   \n",
       "1   Married-civ-spouse     Exec-managerial         Husband     Male   \n",
       "2             Divorced   Handlers-cleaners   Not-in-family     Male   \n",
       "3   Married-civ-spouse   Handlers-cleaners         Husband     Male   \n",
       "4   Married-civ-spouse      Prof-specialty            Wife   Female   \n",
       "\n",
       "   capital-gain  capital-loss  hours-per-week  native-country    wage  \n",
       "0          2174             0              40   United-States   <=50K  \n",
       "1             0             0              13   United-States   <=50K  \n",
       "2             0             0              40   United-States   <=50K  \n",
       "3             0             0              40   United-States   <=50K  \n",
       "4             0             0              40            Cuba   <=50K  "
      ]
     },
     "execution_count": 3,
     "metadata": {},
     "output_type": "execute_result"
    }
   ],
   "source": [
    "df.head()"
   ]
  },
  {
   "cell_type": "code",
   "execution_count": 4,
   "id": "a4b93bec-7ee1-4793-987a-d6ede1e8cb40",
   "metadata": {},
   "outputs": [
    {
     "data": {
      "text/plain": [
       "(32561, 14)"
      ]
     },
     "execution_count": 4,
     "metadata": {},
     "output_type": "execute_result"
    }
   ],
   "source": [
    "# Check shape\n",
    "df.shape"
   ]
  },
  {
   "cell_type": "code",
   "execution_count": 5,
   "id": "2a997cbc-5366-4d1c-9c9e-b14936fffc71",
   "metadata": {},
   "outputs": [],
   "source": [
    "# Rename columns\n",
    "df.columns = ['age', 'workclass', 'final_weight', 'education', 'education_num',\n",
    "       'marital_status', 'occupation', 'relationship', 'sex', 'capital_gain',\n",
    "       'capital_loss', 'hours_per_week', 'native_country', 'wage']"
   ]
  },
  {
   "cell_type": "code",
   "execution_count": 6,
   "id": "840d1332-de8e-4258-b17a-3e8c0f758ab3",
   "metadata": {},
   "outputs": [
    {
     "data": {
      "text/plain": [
       "age                int64\n",
       "workclass         object\n",
       "final_weight       int64\n",
       "education         object\n",
       "education_num      int64\n",
       "marital_status    object\n",
       "occupation        object\n",
       "relationship      object\n",
       "sex               object\n",
       "capital_gain       int64\n",
       "capital_loss       int64\n",
       "hours_per_week     int64\n",
       "native_country    object\n",
       "wage              object\n",
       "dtype: object"
      ]
     },
     "execution_count": 6,
     "metadata": {},
     "output_type": "execute_result"
    }
   ],
   "source": [
    "df.dtypes"
   ]
  },
  {
   "cell_type": "code",
   "execution_count": 7,
   "id": "fc68547a-879a-495b-8212-0c4fa2c27090",
   "metadata": {},
   "outputs": [
    {
     "data": {
      "text/plain": [
       "['age',\n",
       " 'final_weight',\n",
       " 'education_num',\n",
       " 'capital_gain',\n",
       " 'capital_loss',\n",
       " 'hours_per_week']"
      ]
     },
     "execution_count": 7,
     "metadata": {},
     "output_type": "execute_result"
    }
   ],
   "source": [
    "# Numerical columns\n",
    "num_cols = list(df._get_numeric_data().columns)\n",
    "num_cols"
   ]
  },
  {
   "cell_type": "code",
   "execution_count": 8,
   "id": "798e2264-3749-41b1-92a0-7738068232d4",
   "metadata": {},
   "outputs": [
    {
     "data": {
      "text/plain": [
       "['workclass',\n",
       " 'sex',\n",
       " 'education',\n",
       " 'wage',\n",
       " 'occupation',\n",
       " 'relationship',\n",
       " 'native_country',\n",
       " 'marital_status']"
      ]
     },
     "execution_count": 8,
     "metadata": {},
     "output_type": "execute_result"
    }
   ],
   "source": [
    "# Categorical columns\n",
    "cat_cols = list(set(df.columns) - set(num_cols))\n",
    "cat_cols"
   ]
  },
  {
   "cell_type": "markdown",
   "id": "7e6505a2-6eb9-4398-a40e-bcfd7876fa96",
   "metadata": {},
   "source": [
    "---"
   ]
  },
  {
   "cell_type": "markdown",
   "id": "2d0f8cb1-2a14-4ef3-b408-0491c63dbfe8",
   "metadata": {},
   "source": [
    "### Cleaning categorical"
   ]
  },
  {
   "cell_type": "code",
   "execution_count": 9,
   "id": "3f661237-6509-47f4-9983-eabf827ba09c",
   "metadata": {},
   "outputs": [],
   "source": [
    "# Remove white space from categorical columns\n",
    "for cols in cat_cols:\n",
    "    df[cols] = df[cols].str.strip()"
   ]
  },
  {
   "cell_type": "code",
   "execution_count": 10,
   "id": "990b73fd-8f7c-4844-a939-a8fd5ec419d2",
   "metadata": {},
   "outputs": [],
   "source": [
    "# Convert target columns to more than >50K to 1 and 0\n",
    "df['wage'] = df['wage'].map({'>50K':1,'<=50K':0})"
   ]
  },
  {
   "cell_type": "code",
   "execution_count": 11,
   "id": "fcefbd2b-f5a5-45db-8085-7cfaa6960dbd",
   "metadata": {},
   "outputs": [
    {
     "data": {
      "text/plain": [
       "0    24720\n",
       "1     7841\n",
       "Name: wage, dtype: int64"
      ]
     },
     "execution_count": 11,
     "metadata": {},
     "output_type": "execute_result"
    }
   ],
   "source": [
    "df['wage'].value_counts()"
   ]
  },
  {
   "cell_type": "code",
   "execution_count": 100,
   "id": "c9c5d072-328e-4f7c-834e-8383ebd6e710",
   "metadata": {},
   "outputs": [
    {
     "data": {
      "image/png": "[encoded data removed]",
      "text/plain": [
       "<Figure size 1600x1000 with 8 Axes>"
      ]
     },
     "metadata": {},
     "output_type": "display_data"
    }
   ],
   "source": [
    "# Plotting a categorical count plot\n",
    "plt.figure(figsize=(16,10))\n",
    "\n",
    "for n,cols in enumerate(cat_cols):\n",
    "    # add subplots\n",
    "    ax = plt.subplot(4,2, n+1)\n",
    "    \n",
    "    sns.countplot(data=df,y=cols,hue='wage');\n",
    "    \n",
    "plt.tight_layout()"
   ]
  },
  {
   "cell_type": "markdown",
   "id": "5fadaa51-69f0-4982-9470-630dbd00ca90",
   "metadata": {},
   "source": [
    "### Clean categorical as the following:\n",
    "0. Native Country : US, Other\n",
    "1. Workclass :\n",
    "    - Group 1 : Self-emp-inc\n",
    "    - Group 2 : Federal-gov\n",
    "    - Group 3 : Local-gov, Self-emp-not-inc, State-gov, Private\n",
    "2. Occupation :\n",
    "    - Group 1 : Prof-specialty, Exec-managerial\n",
    "    - Group 2 : Protective-serv, Tech-support\n",
    "    - Gorup 3 : Sales, Craft-repair, Transport-moving\n",
    "    - Other\n",
    "3. Relationship : Husband & Wife, Other\n",
    "4. Marital_status : Married-civ-spouse & Married-AF-spouse, Other\n",
    "5. Education :\n",
    "    - Group 1 : Doctorate, Prof-school\n",
    "    - Group 2 : Masters, Bachelors\n",
    "    - Other\n",
    "6. Sex : convert to is_male"
   ]
  },
  {
   "cell_type": "code",
   "execution_count": 13,
   "id": "a0fec46d-a324-4728-af15-3c7523f14c9e",
   "metadata": {},
   "outputs": [],
   "source": [
    "df['native_country'] = df['native_country'].map({'United-States':'US'})\\\n",
    ".fillna('Other')"
   ]
  },
  {
   "cell_type": "code",
   "execution_count": 14,
   "id": "dd2ecd98-3601-489c-a3f1-353f3c969da2",
   "metadata": {},
   "outputs": [],
   "source": [
    "# Workclass\n",
    "df['workclass'] = df['workclass'].map({'Self-emp-inc':'Group1',\n",
    "                                       'Federal-gov':'Group2',\n",
    "                                       'Local-gov':'Group3',\n",
    "                                       'Self-emp-not-inc':'Group3',\n",
    "                                       'State-gov':'Group3',\n",
    "                                       'Private':'Group3'}).fillna('Other')"
   ]
  },
  {
   "cell_type": "code",
   "execution_count": 15,
   "id": "349ba014-95ca-4a08-aff0-e53066010f24",
   "metadata": {},
   "outputs": [],
   "source": [
    "# Occupation\n",
    "df['occupation'] = df['occupation'].map({'Prof-specialty':'Group1',\n",
    "                                         'Exec-managerial':'Group1',\n",
    "                                         'Protective-serv':'Group2',\n",
    "                                         'Tech-support':'Group2',\n",
    "                                         'Sales':'Group3',\n",
    "                                         'Craft-repair':'Group3',\n",
    "                                         'Transport-moving':'Group3'})\\\n",
    ".fillna('Other')"
   ]
  },
  {
   "cell_type": "code",
   "execution_count": 16,
   "id": "bda98243-f276-42c3-b4fe-2e697a3ab9cf",
   "metadata": {},
   "outputs": [],
   "source": [
    "# Relationship\n",
    "df['relationship'] = df['relationship'].map({'Husband':1,'Wife':1,\n",
    "                                             'Not-in-family':2}).fillna('Other')"
   ]
  },
  {
   "cell_type": "code",
   "execution_count": 17,
   "id": "0bcfad18-fa40-41da-9715-3d4561fa8bff",
   "metadata": {},
   "outputs": [],
   "source": [
    "# Marital status\n",
    "df['marital_status'] = df['marital_status'].map({'Married-civ-spouse':1,\n",
    "                                                 'Married-AF-spouse':1})\\\n",
    ".fillna('Other')"
   ]
  },
  {
   "cell_type": "code",
   "execution_count": 18,
   "id": "a479f364-3797-4941-9ded-7bdc6e9b5590",
   "metadata": {},
   "outputs": [],
   "source": [
    "# Education\n",
    "df['education'] = df['education'].map({'Doctorate':'Group1',\n",
    "                                       'Prof-school':'Group1',\n",
    "                                       'Masters':'Group2',\n",
    "                                       'Bachlors':'Group2'})\\\n",
    ".fillna('Other')"
   ]
  },
  {
   "cell_type": "code",
   "execution_count": 19,
   "id": "3cbda413-2400-497a-afda-8088057c93b9",
   "metadata": {},
   "outputs": [],
   "source": [
    "# Convert male to 1 female to 0\n",
    "df['is_male'] = df['sex'].map({'Male':1,'Female':0})"
   ]
  },
  {
   "cell_type": "code",
   "execution_count": 20,
   "id": "e06082e5-6827-4b38-bec2-7c0a900f74f0",
   "metadata": {},
   "outputs": [],
   "source": [
    "# Drop sex\n",
    "df.drop(columns=['sex'],inplace=True)"
   ]
  },
  {
   "cell_type": "code",
   "execution_count": 102,
   "id": "9a59064e-50ed-498c-99ac-3015721f653d",
   "metadata": {},
   "outputs": [
    {
     "data": {
      "image/png": "[encoded data removed]",
      "text/plain": [
       "<Figure size 1600x1000 with 8 Axes>"
      ]
     },
     "metadata": {},
     "output_type": "display_data"
    }
   ],
   "source": [
    "# Plotting a categorical count plot\n",
    "plt.figure(figsize=(16,10))\n",
    "\n",
    "for n,cols in enumerate(cat_cols):\n",
    "    # add subplots\n",
    "    ax = plt.subplot(4,2, n+1)\n",
    "    \n",
    "    sns.countplot(data=df,y=cols,hue='wage');\n",
    "    \n",
    "plt.tight_layout()"
   ]
  },
  {
   "cell_type": "code",
   "execution_count": 21,
   "id": "0c553cf2-31eb-46d5-ba5c-6b847cac339f",
   "metadata": {},
   "outputs": [
    {
     "data": {
      "text/plain": [
       "['workclass',\n",
       " 'education',\n",
       " 'wage',\n",
       " 'occupation',\n",
       " 'relationship',\n",
       " 'is_male',\n",
       " 'native_country',\n",
       " 'marital_status']"
      ]
     },
     "execution_count": 21,
     "metadata": {},
     "output_type": "execute_result"
    }
   ],
   "source": [
    "# Update Categorical columns\n",
    "cat_cols = list(set(df.columns) - set(num_cols))\n",
    "cat_cols"
   ]
  },
  {
   "cell_type": "code",
   "execution_count": 22,
   "id": "71a666e0-16a8-450e-a1a4-245f9374cd44",
   "metadata": {},
   "outputs": [
    {
     "data": {
      "text/plain": [
       "workclass         4\n",
       "education         3\n",
       "wage              2\n",
       "occupation        4\n",
       "relationship      3\n",
       "is_male           2\n",
       "native_country    2\n",
       "marital_status    2\n",
       "dtype: int64"
      ]
     },
     "execution_count": 22,
     "metadata": {},
     "output_type": "execute_result"
    }
   ],
   "source": [
    "df[cat_cols].nunique()"
   ]
  },
  {
   "cell_type": "markdown",
   "id": "cd57e327-fe93-4823-a785-fdc51923513f",
   "metadata": {},
   "source": [
    "---"
   ]
  },
  {
   "cell_type": "markdown",
   "id": "7aa22a5a-f803-437b-9645-f05d762cb741",
   "metadata": {},
   "source": [
    "### Cleaning numerical columns"
   ]
  },
  {
   "cell_type": "code",
   "execution_count": 23,
   "id": "2d8eadb2-f79e-41b1-bde9-bae4be2fdf15",
   "metadata": {},
   "outputs": [
    {
     "data": {
      "text/plain": [
       "['age',\n",
       " 'final_weight',\n",
       " 'education_num',\n",
       " 'capital_gain',\n",
       " 'capital_loss',\n",
       " 'hours_per_week']"
      ]
     },
     "execution_count": 23,
     "metadata": {},
     "output_type": "execute_result"
    }
   ],
   "source": [
    "num_cols"
   ]
  },
  {
   "cell_type": "code",
   "execution_count": 24,
   "id": "71869bd5-c645-4500-aff5-3753d61215e6",
   "metadata": {},
   "outputs": [],
   "source": [
    "num_cols.extend(['wage'])"
   ]
  },
  {
   "cell_type": "code",
   "execution_count": 25,
   "id": "25795460-88f7-46e3-8d9a-85420bdaf6ab",
   "metadata": {},
   "outputs": [
    {
     "data": {
      "image/png": "[encoded data removed]",
      "text/plain": [
       "<Figure size 640x480 with 2 Axes>"
      ]
     },
     "metadata": {},
     "output_type": "display_data"
    }
   ],
   "source": [
    "sns.heatmap(df[num_cols].corr(),annot=True, cmap = 'viridis');"
   ]
  },
  {
   "cell_type": "code",
   "execution_count": 26,
   "id": "8cfb91f7-43b6-4d7e-8093-5c3e68331356",
   "metadata": {},
   "outputs": [],
   "source": [
    "# We will drop final_weight\n",
    "df.drop(columns = ['final_weight'],inplace=True)"
   ]
  },
  {
   "cell_type": "markdown",
   "id": "8d54f93b-5f15-4352-aa59-4c8f7f71734e",
   "metadata": {},
   "source": [
    "---"
   ]
  },
  {
   "cell_type": "markdown",
   "id": "1f25bd12-ea2c-41ba-b41b-aacae945adf5",
   "metadata": {},
   "source": [
    "## Modeling"
   ]
  },
  {
   "cell_type": "code",
   "execution_count": 27,
   "id": "0d07dc69-2f53-48be-9ee5-c638fae4befc",
   "metadata": {},
   "outputs": [
    {
     "data": {
      "text/plain": [
       "Index(['age', 'workclass', 'education', 'education_num', 'marital_status',\n",
       "       'occupation', 'relationship', 'capital_gain', 'capital_loss',\n",
       "       'hours_per_week', 'native_country', 'wage', 'is_male'],\n",
       "      dtype='object')"
      ]
     },
     "execution_count": 27,
     "metadata": {},
     "output_type": "execute_result"
    }
   ],
   "source": [
    "df.columns"
   ]
  },
  {
   "cell_type": "code",
   "execution_count": 28,
   "id": "f3bf5baa-2fab-4896-9cc9-7f757d7201b8",
   "metadata": {},
   "outputs": [
    {
     "data": {
      "text/plain": [
       "['workclass',\n",
       " 'education',\n",
       " 'wage',\n",
       " 'occupation',\n",
       " 'relationship',\n",
       " 'is_male',\n",
       " 'native_country',\n",
       " 'marital_status']"
      ]
     },
     "execution_count": 28,
     "metadata": {},
     "output_type": "execute_result"
    }
   ],
   "source": [
    "cat_cols"
   ]
  },
  {
   "cell_type": "code",
   "execution_count": 29,
   "id": "0b134875-e1a2-40cb-aaac-de6fa4225df1",
   "metadata": {},
   "outputs": [],
   "source": [
    "# Select X and y\n",
    "X = df.drop(columns=['wage'])\n",
    "y = df['wage']"
   ]
  },
  {
   "cell_type": "code",
   "execution_count": 30,
   "id": "25a95bf7-1fa8-4a40-8912-27d9918dff3f",
   "metadata": {},
   "outputs": [
    {
     "data": {
      "text/html": [
       "<div>\n",
       "<style scoped>\n",
       "    .dataframe tbody tr th:only-of-type {\n",
       "        vertical-align: middle;\n",
       "    }\n",
       "\n",
       "    .dataframe tbody tr th {\n",
       "        vertical-align: top;\n",
       "    }\n",
       "\n",
       "    .dataframe thead th {\n",
       "        text-align: right;\n",
       "    }\n",
       "</style>\n",
       "<table border=\"1\" class=\"dataframe\">\n",
       "  <thead>\n",
       "    <tr style=\"text-align: right;\">\n",
       "      <th></th>\n",
       "      <th>age</th>\n",
       "      <th>workclass</th>\n",
       "      <th>education</th>\n",
       "      <th>education_num</th>\n",
       "      <th>marital_status</th>\n",
       "      <th>occupation</th>\n",
       "      <th>relationship</th>\n",
       "      <th>capital_gain</th>\n",
       "      <th>capital_loss</th>\n",
       "      <th>hours_per_week</th>\n",
       "      <th>native_country</th>\n",
       "      <th>is_male</th>\n",
       "    </tr>\n",
       "  </thead>\n",
       "  <tbody>\n",
       "    <tr>\n",
       "      <th>0</th>\n",
       "      <td>39</td>\n",
       "      <td>Group3</td>\n",
       "      <td>Other</td>\n",
       "      <td>13</td>\n",
       "      <td>Other</td>\n",
       "      <td>Other</td>\n",
       "      <td>2.0</td>\n",
       "      <td>2174</td>\n",
       "      <td>0</td>\n",
       "      <td>40</td>\n",
       "      <td>US</td>\n",
       "      <td>1</td>\n",
       "    </tr>\n",
       "    <tr>\n",
       "      <th>1</th>\n",
       "      <td>50</td>\n",
       "      <td>Group3</td>\n",
       "      <td>Other</td>\n",
       "      <td>13</td>\n",
       "      <td>1.0</td>\n",
       "      <td>Group1</td>\n",
       "      <td>1.0</td>\n",
       "      <td>0</td>\n",
       "      <td>0</td>\n",
       "      <td>13</td>\n",
       "      <td>US</td>\n",
       "      <td>1</td>\n",
       "    </tr>\n",
       "  </tbody>\n",
       "</table>\n",
       "</div>"
      ],
      "text/plain": [
       "   age workclass education  education_num marital_status occupation  \\\n",
       "0   39    Group3     Other             13          Other      Other   \n",
       "1   50    Group3     Other             13            1.0     Group1   \n",
       "\n",
       "  relationship  capital_gain  capital_loss  hours_per_week native_country  \\\n",
       "0          2.0          2174             0              40             US   \n",
       "1          1.0             0             0              13             US   \n",
       "\n",
       "   is_male  \n",
       "0        1  \n",
       "1        1  "
      ]
     },
     "execution_count": 30,
     "metadata": {},
     "output_type": "execute_result"
    }
   ],
   "source": [
    "X.head(2)"
   ]
  },
  {
   "cell_type": "code",
   "execution_count": 31,
   "id": "fcd4a299-a338-4328-874a-7b1988b9a847",
   "metadata": {},
   "outputs": [
    {
     "data": {
      "text/plain": [
       "Index(['age', 'workclass', 'education', 'education_num', 'marital_status',\n",
       "       'occupation', 'relationship', 'capital_gain', 'capital_loss',\n",
       "       'hours_per_week', 'native_country', 'is_male'],\n",
       "      dtype='object')"
      ]
     },
     "execution_count": 31,
     "metadata": {},
     "output_type": "execute_result"
    }
   ],
   "source": [
    "X.columns"
   ]
  },
  {
   "cell_type": "code",
   "execution_count": 32,
   "id": "c490d7de-1f4d-40cf-b1ed-644e8e873bef",
   "metadata": {},
   "outputs": [],
   "source": [
    "X = pd.get_dummies(data=X, \n",
    "                   columns = ['native_country','workclass','occupation',\n",
    "                              'education','relationship','marital_status'],\n",
    "                   drop_first = True)"
   ]
  },
  {
   "cell_type": "code",
   "execution_count": 33,
   "id": "ede51231-c841-4b56-9481-160afd15c114",
   "metadata": {},
   "outputs": [],
   "source": [
    "# Train test split\n",
    "X_train, X_test, y_train, y_test = train_test_split(X, y, test_size =0.2,\n",
    "                                                    stratify=y,\n",
    "                                                    random_state = 42)"
   ]
  },
  {
   "cell_type": "code",
   "execution_count": 34,
   "id": "7e59dada-e551-4c3a-9c9a-0e6e182a8467",
   "metadata": {},
   "outputs": [
    {
     "data": {
      "text/plain": [
       "((26048, 18), (6513, 18), (26048,), (6513,))"
      ]
     },
     "execution_count": 34,
     "metadata": {},
     "output_type": "execute_result"
    }
   ],
   "source": [
    "X_train.shape, X_test.shape, y_train.shape, y_test.shape"
   ]
  },
  {
   "cell_type": "code",
   "execution_count": 35,
   "id": "3ebf7611-f4be-4041-9093-808f80db34f9",
   "metadata": {},
   "outputs": [
    {
     "data": {
      "text/plain": [
       "Index(['age', 'education_num', 'capital_gain', 'capital_loss',\n",
       "       'hours_per_week', 'is_male', 'native_country_US', 'workclass_Group2',\n",
       "       'workclass_Group3', 'workclass_Other', 'occupation_Group2',\n",
       "       'occupation_Group3', 'occupation_Other', 'education_Group2',\n",
       "       'education_Other', 'relationship_2.0', 'relationship_Other',\n",
       "       'marital_status_Other'],\n",
       "      dtype='object')"
      ]
     },
     "execution_count": 35,
     "metadata": {},
     "output_type": "execute_result"
    }
   ],
   "source": [
    "X_train.columns"
   ]
  },
  {
   "cell_type": "code",
   "execution_count": 36,
   "id": "ba183c1b-9f83-4fd0-9064-91d685a8c345",
   "metadata": {},
   "outputs": [
    {
     "data": {
      "text/html": [
       "<div>\n",
       "<style scoped>\n",
       "    .dataframe tbody tr th:only-of-type {\n",
       "        vertical-align: middle;\n",
       "    }\n",
       "\n",
       "    .dataframe tbody tr th {\n",
       "        vertical-align: top;\n",
       "    }\n",
       "\n",
       "    .dataframe thead th {\n",
       "        text-align: right;\n",
       "    }\n",
       "</style>\n",
       "<table border=\"1\" class=\"dataframe\">\n",
       "  <thead>\n",
       "    <tr style=\"text-align: right;\">\n",
       "      <th></th>\n",
       "      <th>age</th>\n",
       "      <th>education_num</th>\n",
       "      <th>capital_gain</th>\n",
       "      <th>capital_loss</th>\n",
       "      <th>hours_per_week</th>\n",
       "      <th>is_male</th>\n",
       "      <th>native_country_US</th>\n",
       "      <th>workclass_Group2</th>\n",
       "      <th>workclass_Group3</th>\n",
       "      <th>workclass_Other</th>\n",
       "      <th>occupation_Group2</th>\n",
       "      <th>occupation_Group3</th>\n",
       "      <th>occupation_Other</th>\n",
       "      <th>education_Group2</th>\n",
       "      <th>education_Other</th>\n",
       "      <th>relationship_2.0</th>\n",
       "      <th>relationship_Other</th>\n",
       "      <th>marital_status_Other</th>\n",
       "    </tr>\n",
       "  </thead>\n",
       "  <tbody>\n",
       "    <tr>\n",
       "      <th>15738</th>\n",
       "      <td>32</td>\n",
       "      <td>13</td>\n",
       "      <td>0</td>\n",
       "      <td>0</td>\n",
       "      <td>45</td>\n",
       "      <td>1</td>\n",
       "      <td>1</td>\n",
       "      <td>0</td>\n",
       "      <td>1</td>\n",
       "      <td>0</td>\n",
       "      <td>0</td>\n",
       "      <td>0</td>\n",
       "      <td>0</td>\n",
       "      <td>0</td>\n",
       "      <td>1</td>\n",
       "      <td>0</td>\n",
       "      <td>0</td>\n",
       "      <td>0</td>\n",
       "    </tr>\n",
       "    <tr>\n",
       "      <th>27985</th>\n",
       "      <td>43</td>\n",
       "      <td>14</td>\n",
       "      <td>0</td>\n",
       "      <td>0</td>\n",
       "      <td>45</td>\n",
       "      <td>0</td>\n",
       "      <td>1</td>\n",
       "      <td>0</td>\n",
       "      <td>1</td>\n",
       "      <td>0</td>\n",
       "      <td>0</td>\n",
       "      <td>0</td>\n",
       "      <td>0</td>\n",
       "      <td>1</td>\n",
       "      <td>0</td>\n",
       "      <td>1</td>\n",
       "      <td>0</td>\n",
       "      <td>1</td>\n",
       "    </tr>\n",
       "    <tr>\n",
       "      <th>30673</th>\n",
       "      <td>20</td>\n",
       "      <td>9</td>\n",
       "      <td>0</td>\n",
       "      <td>0</td>\n",
       "      <td>28</td>\n",
       "      <td>0</td>\n",
       "      <td>1</td>\n",
       "      <td>0</td>\n",
       "      <td>0</td>\n",
       "      <td>1</td>\n",
       "      <td>0</td>\n",
       "      <td>0</td>\n",
       "      <td>1</td>\n",
       "      <td>0</td>\n",
       "      <td>1</td>\n",
       "      <td>1</td>\n",
       "      <td>0</td>\n",
       "      <td>1</td>\n",
       "    </tr>\n",
       "    <tr>\n",
       "      <th>9505</th>\n",
       "      <td>40</td>\n",
       "      <td>10</td>\n",
       "      <td>6849</td>\n",
       "      <td>0</td>\n",
       "      <td>40</td>\n",
       "      <td>1</td>\n",
       "      <td>1</td>\n",
       "      <td>0</td>\n",
       "      <td>1</td>\n",
       "      <td>0</td>\n",
       "      <td>0</td>\n",
       "      <td>1</td>\n",
       "      <td>0</td>\n",
       "      <td>0</td>\n",
       "      <td>1</td>\n",
       "      <td>0</td>\n",
       "      <td>1</td>\n",
       "      <td>1</td>\n",
       "    </tr>\n",
       "    <tr>\n",
       "      <th>26417</th>\n",
       "      <td>24</td>\n",
       "      <td>13</td>\n",
       "      <td>0</td>\n",
       "      <td>0</td>\n",
       "      <td>40</td>\n",
       "      <td>1</td>\n",
       "      <td>1</td>\n",
       "      <td>0</td>\n",
       "      <td>1</td>\n",
       "      <td>0</td>\n",
       "      <td>0</td>\n",
       "      <td>0</td>\n",
       "      <td>0</td>\n",
       "      <td>0</td>\n",
       "      <td>1</td>\n",
       "      <td>0</td>\n",
       "      <td>1</td>\n",
       "      <td>1</td>\n",
       "    </tr>\n",
       "  </tbody>\n",
       "</table>\n",
       "</div>"
      ],
      "text/plain": [
       "       age  education_num  capital_gain  capital_loss  hours_per_week  \\\n",
       "15738   32             13             0             0              45   \n",
       "27985   43             14             0             0              45   \n",
       "30673   20              9             0             0              28   \n",
       "9505    40             10          6849             0              40   \n",
       "26417   24             13             0             0              40   \n",
       "\n",
       "       is_male  native_country_US  workclass_Group2  workclass_Group3  \\\n",
       "15738        1                  1                 0                 1   \n",
       "27985        0                  1                 0                 1   \n",
       "30673        0                  1                 0                 0   \n",
       "9505         1                  1                 0                 1   \n",
       "26417        1                  1                 0                 1   \n",
       "\n",
       "       workclass_Other  occupation_Group2  occupation_Group3  \\\n",
       "15738                0                  0                  0   \n",
       "27985                0                  0                  0   \n",
       "30673                1                  0                  0   \n",
       "9505                 0                  0                  1   \n",
       "26417                0                  0                  0   \n",
       "\n",
       "       occupation_Other  education_Group2  education_Other  relationship_2.0  \\\n",
       "15738                 0                 0                1                 0   \n",
       "27985                 0                 1                0                 1   \n",
       "30673                 1                 0                1                 1   \n",
       "9505                  0                 0                1                 0   \n",
       "26417                 0                 0                1                 0   \n",
       "\n",
       "       relationship_Other  marital_status_Other  \n",
       "15738                   0                     0  \n",
       "27985                   0                     1  \n",
       "30673                   0                     1  \n",
       "9505                    1                     1  \n",
       "26417                   1                     1  "
      ]
     },
     "execution_count": 36,
     "metadata": {},
     "output_type": "execute_result"
    }
   ],
   "source": [
    "X_train.head()"
   ]
  },
  {
   "cell_type": "code",
   "execution_count": 37,
   "id": "e8c70824-2b76-4611-ae61-2faf3d7be6f9",
   "metadata": {},
   "outputs": [
    {
     "data": {
      "text/plain": [
       "0    0.759175\n",
       "1    0.240825\n",
       "Name: wage, dtype: float64"
      ]
     },
     "execution_count": 37,
     "metadata": {},
     "output_type": "execute_result"
    }
   ],
   "source": [
    "# Check baseline\n",
    "y_train.value_counts(normalize=True)"
   ]
  },
  {
   "cell_type": "code",
   "execution_count": 103,
   "id": "3400c159-9578-4227-80fc-15bdf6fa9e65",
   "metadata": {},
   "outputs": [
    {
     "data": {
      "text/plain": [
       "3.166666666666667"
      ]
     },
     "execution_count": 103,
     "metadata": {},
     "output_type": "execute_result"
    }
   ],
   "source": [
    "0.76/0.24"
   ]
  },
  {
   "cell_type": "code",
   "execution_count": 38,
   "id": "c61497fb-8c86-462b-8cd2-be584190f144",
   "metadata": {},
   "outputs": [],
   "source": [
    "# Scale\n",
    "sc = StandardScaler()\n",
    "Z_train = sc.fit_transform(X_train)\n",
    "Z_test = sc.transform(X_test)"
   ]
  },
  {
   "cell_type": "markdown",
   "id": "dcbcf250-1dc1-48bd-bd2d-561982f794c6",
   "metadata": {},
   "source": [
    "---"
   ]
  },
  {
   "cell_type": "markdown",
   "id": "7c44ac71-dd8b-4aac-9579-1b5b3b9d1d29",
   "metadata": {
    "tags": []
   },
   "source": [
    "## Fitting LogReg"
   ]
  },
  {
   "cell_type": "code",
   "execution_count": 39,
   "id": "e41eaf52-a992-4ccc-9c6d-de3ca2222420",
   "metadata": {},
   "outputs": [],
   "source": [
    "lr = LogisticRegression()"
   ]
  },
  {
   "cell_type": "code",
   "execution_count": 40,
   "id": "0974c4ce-a197-4e06-bd3a-9b2dff2da680",
   "metadata": {},
   "outputs": [
    {
     "data": {
      "text/html": [
       "<style>#sk-container-id-1 {color: black;background-color: white;}#sk-container-id-1 pre{padding: 0;}#sk-container-id-1 div.sk-toggleable {background-color: white;}#sk-container-id-1 label.sk-toggleable__label {cursor: pointer;display: block;width: 100%;margin-bottom: 0;padding: 0.3em;box-sizing: border-box;text-align: center;}#sk-container-id-1 label.sk-toggleable__label-arrow:before {content: \"▸\";float: left;margin-right: 0.25em;color: #696969;}#sk-container-id-1 label.sk-toggleable__label-arrow:hover:before {color: black;}#sk-container-id-1 div.sk-estimator:hover label.sk-toggleable__label-arrow:before {color: black;}#sk-container-id-1 div.sk-toggleable__content {max-height: 0;max-width: 0;overflow: hidden;text-align: left;background-color: #f0f8ff;}#sk-container-id-1 div.sk-toggleable__content pre {margin: 0.2em;color: black;border-radius: 0.25em;background-color: #f0f8ff;}#sk-container-id-1 input.sk-toggleable__control:checked~div.sk-toggleable__content {max-height: 200px;max-width: 100%;overflow: auto;}#sk-container-id-1 input.sk-toggleable__control:checked~label.sk-toggleable__label-arrow:before {content: \"▾\";}#sk-container-id-1 div.sk-estimator input.sk-toggleable__control:checked~label.sk-toggleable__label {background-color: #d4ebff;}#sk-container-id-1 div.sk-label input.sk-toggleable__control:checked~label.sk-toggleable__label {background-color: #d4ebff;}#sk-container-id-1 input.sk-hidden--visually {border: 0;clip: rect(1px 1px 1px 1px);clip: rect(1px, 1px, 1px, 1px);height: 1px;margin: -1px;overflow: hidden;padding: 0;position: absolute;width: 1px;}#sk-container-id-1 div.sk-estimator {font-family: monospace;background-color: #f0f8ff;border: 1px dotted black;border-radius: 0.25em;box-sizing: border-box;margin-bottom: 0.5em;}#sk-container-id-1 div.sk-estimator:hover {background-color: #d4ebff;}#sk-container-id-1 div.sk-parallel-item::after {content: \"\";width: 100%;border-bottom: 1px solid gray;flex-grow: 1;}#sk-container-id-1 div.sk-label:hover label.sk-toggleable__label {background-color: #d4ebff;}#sk-container-id-1 div.sk-serial::before {content: \"\";position: absolute;border-left: 1px solid gray;box-sizing: border-box;top: 0;bottom: 0;left: 50%;z-index: 0;}#sk-container-id-1 div.sk-serial {display: flex;flex-direction: column;align-items: center;background-color: white;padding-right: 0.2em;padding-left: 0.2em;position: relative;}#sk-container-id-1 div.sk-item {position: relative;z-index: 1;}#sk-container-id-1 div.sk-parallel {display: flex;align-items: stretch;justify-content: center;background-color: white;position: relative;}#sk-container-id-1 div.sk-item::before, #sk-container-id-1 div.sk-parallel-item::before {content: \"\";position: absolute;border-left: 1px solid gray;box-sizing: border-box;top: 0;bottom: 0;left: 50%;z-index: -1;}#sk-container-id-1 div.sk-parallel-item {display: flex;flex-direction: column;z-index: 1;position: relative;background-color: white;}#sk-container-id-1 div.sk-parallel-item:first-child::after {align-self: flex-end;width: 50%;}#sk-container-id-1 div.sk-parallel-item:last-child::after {align-self: flex-start;width: 50%;}#sk-container-id-1 div.sk-parallel-item:only-child::after {width: 0;}#sk-container-id-1 div.sk-dashed-wrapped {border: 1px dashed gray;margin: 0 0.4em 0.5em 0.4em;box-sizing: border-box;padding-bottom: 0.4em;background-color: white;}#sk-container-id-1 div.sk-label label {font-family: monospace;font-weight: bold;display: inline-block;line-height: 1.2em;}#sk-container-id-1 div.sk-label-container {text-align: center;}#sk-container-id-1 div.sk-container {/* jupyter's `normalize.less` sets `[hidden] { display: none; }` but bootstrap.min.css set `[hidden] { display: none !important; }` so we also need the `!important` here to be able to override the default hidden behavior on the sphinx rendered scikit-learn.org. See: https://github.com/scikit-learn/scikit-learn/issues/21755 */display: inline-block !important;position: relative;}#sk-container-id-1 div.sk-text-repr-fallback {display: none;}</style><div id=\"sk-container-id-1\" class=\"sk-top-container\"><div class=\"sk-text-repr-fallback\"><pre>LogisticRegression()</pre><b>In a Jupyter environment, please rerun this cell to show the HTML representation or trust the notebook. <br />On GitHub, the HTML representation is unable to render, please try loading this page with nbviewer.org.</b></div><div class=\"sk-container\" hidden><div class=\"sk-item\"><div class=\"sk-estimator sk-toggleable\"><input class=\"sk-toggleable__control sk-hidden--visually\" id=\"sk-estimator-id-1\" type=\"checkbox\" checked><label for=\"sk-estimator-id-1\" class=\"sk-toggleable__label sk-toggleable__label-arrow\">LogisticRegression</label><div class=\"sk-toggleable__content\"><pre>LogisticRegression()</pre></div></div></div></div></div>"
      ],
      "text/plain": [
       "LogisticRegression()"
      ]
     },
     "execution_count": 40,
     "metadata": {},
     "output_type": "execute_result"
    }
   ],
   "source": [
    "lr.fit(Z_train,y_train)"
   ]
  },
  {
   "cell_type": "code",
   "execution_count": 41,
   "id": "0cc37283-85b8-495f-8545-18b20752b1c4",
   "metadata": {},
   "outputs": [],
   "source": [
    "y_train_pred = lr.predict(Z_train)"
   ]
  },
  {
   "cell_type": "code",
   "execution_count": 42,
   "id": "1c614962-ea86-4326-94ac-71717efab5f8",
   "metadata": {},
   "outputs": [],
   "source": [
    "y_test_pred = lr.predict(Z_test)"
   ]
  },
  {
   "cell_type": "code",
   "execution_count": 43,
   "id": "204d5629-b388-4b1e-823c-13e388f5a47f",
   "metadata": {},
   "outputs": [
    {
     "name": "stdout",
     "output_type": "stream",
     "text": [
      "              precision    recall  f1-score   support\n",
      "\n",
      "           0       0.88      0.93      0.91      4945\n",
      "           1       0.74      0.60      0.66      1568\n",
      "\n",
      "    accuracy                           0.85      6513\n",
      "   macro avg       0.81      0.77      0.78      6513\n",
      "weighted avg       0.85      0.85      0.85      6513\n",
      "\n"
     ]
    }
   ],
   "source": [
    "print(classification_report(y_test,y_test_pred))"
   ]
  },
  {
   "cell_type": "code",
   "execution_count": 44,
   "id": "b8ccbc98-810d-45de-a0c9-ed2e61428dc6",
   "metadata": {},
   "outputs": [
    {
     "name": "stdout",
     "output_type": "stream",
     "text": [
      "              precision    recall  f1-score   support\n",
      "\n",
      "           0       0.88      0.93      0.90     19775\n",
      "           1       0.73      0.58      0.65      6273\n",
      "\n",
      "    accuracy                           0.85     26048\n",
      "   macro avg       0.80      0.76      0.78     26048\n",
      "weighted avg       0.84      0.85      0.84     26048\n",
      "\n"
     ]
    }
   ],
   "source": [
    "print(classification_report(y_train,y_train_pred))"
   ]
  },
  {
   "cell_type": "markdown",
   "id": "d1d1e2c1-03fa-4891-9445-7f51fa84ca8e",
   "metadata": {},
   "source": [
    "----"
   ]
  },
  {
   "cell_type": "markdown",
   "id": "35cd1372-cc76-407f-bcef-5ab886fa801b",
   "metadata": {
    "tags": []
   },
   "source": [
    "## Fitting XGBClassifier"
   ]
  },
  {
   "cell_type": "code",
   "execution_count": 116,
   "id": "37715e71-c429-41b8-a904-e1c1f51c314a",
   "metadata": {},
   "outputs": [],
   "source": [
    "xg_default = XGBClassifier()"
   ]
  },
  {
   "cell_type": "code",
   "execution_count": 117,
   "id": "381fd3ee-4e20-4aa3-8816-62cd5129184a",
   "metadata": {},
   "outputs": [
    {
     "data": {
      "text/html": [
       "<style>#sk-container-id-6 {color: black;background-color: white;}#sk-container-id-6 pre{padding: 0;}#sk-container-id-6 div.sk-toggleable {background-color: white;}#sk-container-id-6 label.sk-toggleable__label {cursor: pointer;display: block;width: 100%;margin-bottom: 0;padding: 0.3em;box-sizing: border-box;text-align: center;}#sk-container-id-6 label.sk-toggleable__label-arrow:before {content: \"▸\";float: left;margin-right: 0.25em;color: #696969;}#sk-container-id-6 label.sk-toggleable__label-arrow:hover:before {color: black;}#sk-container-id-6 div.sk-estimator:hover label.sk-toggleable__label-arrow:before {color: black;}#sk-container-id-6 div.sk-toggleable__content {max-height: 0;max-width: 0;overflow: hidden;text-align: left;background-color: #f0f8ff;}#sk-container-id-6 div.sk-toggleable__content pre {margin: 0.2em;color: black;border-radius: 0.25em;background-color: #f0f8ff;}#sk-container-id-6 input.sk-toggleable__control:checked~div.sk-toggleable__content {max-height: 200px;max-width: 100%;overflow: auto;}#sk-container-id-6 input.sk-toggleable__control:checked~label.sk-toggleable__label-arrow:before {content: \"▾\";}#sk-container-id-6 div.sk-estimator input.sk-toggleable__control:checked~label.sk-toggleable__label {background-color: #d4ebff;}#sk-container-id-6 div.sk-label input.sk-toggleable__control:checked~label.sk-toggleable__label {background-color: #d4ebff;}#sk-container-id-6 input.sk-hidden--visually {border: 0;clip: rect(1px 1px 1px 1px);clip: rect(1px, 1px, 1px, 1px);height: 1px;margin: -1px;overflow: hidden;padding: 0;position: absolute;width: 1px;}#sk-container-id-6 div.sk-estimator {font-family: monospace;background-color: #f0f8ff;border: 1px dotted black;border-radius: 0.25em;box-sizing: border-box;margin-bottom: 0.5em;}#sk-container-id-6 div.sk-estimator:hover {background-color: #d4ebff;}#sk-container-id-6 div.sk-parallel-item::after {content: \"\";width: 100%;border-bottom: 1px solid gray;flex-grow: 1;}#sk-container-id-6 div.sk-label:hover label.sk-toggleable__label {background-color: #d4ebff;}#sk-container-id-6 div.sk-serial::before {content: \"\";position: absolute;border-left: 1px solid gray;box-sizing: border-box;top: 0;bottom: 0;left: 50%;z-index: 0;}#sk-container-id-6 div.sk-serial {display: flex;flex-direction: column;align-items: center;background-color: white;padding-right: 0.2em;padding-left: 0.2em;position: relative;}#sk-container-id-6 div.sk-item {position: relative;z-index: 1;}#sk-container-id-6 div.sk-parallel {display: flex;align-items: stretch;justify-content: center;background-color: white;position: relative;}#sk-container-id-6 div.sk-item::before, #sk-container-id-6 div.sk-parallel-item::before {content: \"\";position: absolute;border-left: 1px solid gray;box-sizing: border-box;top: 0;bottom: 0;left: 50%;z-index: -1;}#sk-container-id-6 div.sk-parallel-item {display: flex;flex-direction: column;z-index: 1;position: relative;background-color: white;}#sk-container-id-6 div.sk-parallel-item:first-child::after {align-self: flex-end;width: 50%;}#sk-container-id-6 div.sk-parallel-item:last-child::after {align-self: flex-start;width: 50%;}#sk-container-id-6 div.sk-parallel-item:only-child::after {width: 0;}#sk-container-id-6 div.sk-dashed-wrapped {border: 1px dashed gray;margin: 0 0.4em 0.5em 0.4em;box-sizing: border-box;padding-bottom: 0.4em;background-color: white;}#sk-container-id-6 div.sk-label label {font-family: monospace;font-weight: bold;display: inline-block;line-height: 1.2em;}#sk-container-id-6 div.sk-label-container {text-align: center;}#sk-container-id-6 div.sk-container {/* jupyter's `normalize.less` sets `[hidden] { display: none; }` but bootstrap.min.css set `[hidden] { display: none !important; }` so we also need the `!important` here to be able to override the default hidden behavior on the sphinx rendered scikit-learn.org. See: https://github.com/scikit-learn/scikit-learn/issues/21755 */display: inline-block !important;position: relative;}#sk-container-id-6 div.sk-text-repr-fallback {display: none;}</style><div id=\"sk-container-id-6\" class=\"sk-top-container\"><div class=\"sk-text-repr-fallback\"><pre>XGBClassifier(base_score=0.5, booster=&#x27;gbtree&#x27;, callbacks=None,\n",
       "              colsample_bylevel=1, colsample_bynode=1, colsample_bytree=1,\n",
       "              early_stopping_rounds=None, enable_categorical=False,\n",
       "              eval_metric=None, gamma=0, gpu_id=-1, grow_policy=&#x27;depthwise&#x27;,\n",
       "              importance_type=None, interaction_constraints=&#x27;&#x27;,\n",
       "              learning_rate=0.300000012, max_bin=256, max_cat_to_onehot=4,\n",
       "              max_delta_step=0, max_depth=6, max_leaves=0, min_child_weight=1,\n",
       "              missing=nan, monotone_constraints=&#x27;()&#x27;, n_estimators=100,\n",
       "              n_jobs=0, num_parallel_tree=1, predictor=&#x27;auto&#x27;, random_state=0,\n",
       "              reg_alpha=0, reg_lambda=1, ...)</pre><b>In a Jupyter environment, please rerun this cell to show the HTML representation or trust the notebook. <br />On GitHub, the HTML representation is unable to render, please try loading this page with nbviewer.org.</b></div><div class=\"sk-container\" hidden><div class=\"sk-item\"><div class=\"sk-estimator sk-toggleable\"><input class=\"sk-toggleable__control sk-hidden--visually\" id=\"sk-estimator-id-6\" type=\"checkbox\" checked><label for=\"sk-estimator-id-6\" class=\"sk-toggleable__label sk-toggleable__label-arrow\">XGBClassifier</label><div class=\"sk-toggleable__content\"><pre>XGBClassifier(base_score=0.5, booster=&#x27;gbtree&#x27;, callbacks=None,\n",
       "              colsample_bylevel=1, colsample_bynode=1, colsample_bytree=1,\n",
       "              early_stopping_rounds=None, enable_categorical=False,\n",
       "              eval_metric=None, gamma=0, gpu_id=-1, grow_policy=&#x27;depthwise&#x27;,\n",
       "              importance_type=None, interaction_constraints=&#x27;&#x27;,\n",
       "              learning_rate=0.300000012, max_bin=256, max_cat_to_onehot=4,\n",
       "              max_delta_step=0, max_depth=6, max_leaves=0, min_child_weight=1,\n",
       "              missing=nan, monotone_constraints=&#x27;()&#x27;, n_estimators=100,\n",
       "              n_jobs=0, num_parallel_tree=1, predictor=&#x27;auto&#x27;, random_state=0,\n",
       "              reg_alpha=0, reg_lambda=1, ...)</pre></div></div></div></div></div>"
      ],
      "text/plain": [
       "XGBClassifier(base_score=0.5, booster='gbtree', callbacks=None,\n",
       "              colsample_bylevel=1, colsample_bynode=1, colsample_bytree=1,\n",
       "              early_stopping_rounds=None, enable_categorical=False,\n",
       "              eval_metric=None, gamma=0, gpu_id=-1, grow_policy='depthwise',\n",
       "              importance_type=None, interaction_constraints='',\n",
       "              learning_rate=0.300000012, max_bin=256, max_cat_to_onehot=4,\n",
       "              max_delta_step=0, max_depth=6, max_leaves=0, min_child_weight=1,\n",
       "              missing=nan, monotone_constraints='()', n_estimators=100,\n",
       "              n_jobs=0, num_parallel_tree=1, predictor='auto', random_state=0,\n",
       "              reg_alpha=0, reg_lambda=1, ...)"
      ]
     },
     "execution_count": 117,
     "metadata": {},
     "output_type": "execute_result"
    }
   ],
   "source": [
    "xg_default.fit(Z_train,y_train)"
   ]
  },
  {
   "cell_type": "code",
   "execution_count": 118,
   "id": "3ab46996-94de-427f-a999-da22256210a9",
   "metadata": {},
   "outputs": [],
   "source": [
    "y_train_pred = xg_default.predict(Z_train)"
   ]
  },
  {
   "cell_type": "code",
   "execution_count": 119,
   "id": "7ef72ad4-f9a7-4856-af49-5423083d1610",
   "metadata": {},
   "outputs": [],
   "source": [
    "y_test_pred = xg_default.predict(Z_test)"
   ]
  },
  {
   "cell_type": "code",
   "execution_count": 120,
   "id": "41912a69-a954-440d-8446-9943816a263f",
   "metadata": {},
   "outputs": [
    {
     "name": "stdout",
     "output_type": "stream",
     "text": [
      "              precision    recall  f1-score   support\n",
      "\n",
      "           0       0.90      0.94      0.92      4945\n",
      "           1       0.78      0.66      0.71      1568\n",
      "\n",
      "    accuracy                           0.87      6513\n",
      "   macro avg       0.84      0.80      0.82      6513\n",
      "weighted avg       0.87      0.87      0.87      6513\n",
      "\n"
     ]
    }
   ],
   "source": [
    "print(classification_report(y_test,y_test_pred))"
   ]
  },
  {
   "cell_type": "code",
   "execution_count": 121,
   "id": "49db0272-78e3-438a-b5e2-f182d7c05eed",
   "metadata": {},
   "outputs": [
    {
     "name": "stdout",
     "output_type": "stream",
     "text": [
      "              precision    recall  f1-score   support\n",
      "\n",
      "           0       0.91      0.95      0.93     19775\n",
      "           1       0.81      0.69      0.74      6273\n",
      "\n",
      "    accuracy                           0.89     26048\n",
      "   macro avg       0.86      0.82      0.84     26048\n",
      "weighted avg       0.88      0.89      0.88     26048\n",
      "\n"
     ]
    }
   ],
   "source": [
    "print(classification_report(y_train,y_train_pred))"
   ]
  },
  {
   "cell_type": "markdown",
   "id": "8399e061-ee60-4369-81e1-41b7a0b33ea8",
   "metadata": {},
   "source": [
    "---"
   ]
  },
  {
   "cell_type": "markdown",
   "id": "a4ac993e-3765-4c2e-b27f-b3e6a8039757",
   "metadata": {
    "tags": []
   },
   "source": [
    "## Fitting XGBClassifier (Fine Tuning)"
   ]
  },
  {
   "cell_type": "code",
   "execution_count": 51,
   "id": "05b1dd27-d57d-483a-83e9-86c9b99b8f47",
   "metadata": {},
   "outputs": [],
   "source": [
    "xg = XGBClassifier(colsample_bytree = 1, \n",
    "                   learning_rate = 0.02, \n",
    "                   max_depth = 5,\n",
    "                   n_estimators = 100,\n",
    "                   reg_alpha = 0,\n",
    "                   reg_lambda = 5)"
   ]
  },
  {
   "cell_type": "code",
   "execution_count": 52,
   "id": "b559cfa0-0670-4ab6-bea3-d5cb901b6ad6",
   "metadata": {},
   "outputs": [
    {
     "data": {
      "text/html": [
       "<style>#sk-container-id-3 {color: black;background-color: white;}#sk-container-id-3 pre{padding: 0;}#sk-container-id-3 div.sk-toggleable {background-color: white;}#sk-container-id-3 label.sk-toggleable__label {cursor: pointer;display: block;width: 100%;margin-bottom: 0;padding: 0.3em;box-sizing: border-box;text-align: center;}#sk-container-id-3 label.sk-toggleable__label-arrow:before {content: \"▸\";float: left;margin-right: 0.25em;color: #696969;}#sk-container-id-3 label.sk-toggleable__label-arrow:hover:before {color: black;}#sk-container-id-3 div.sk-estimator:hover label.sk-toggleable__label-arrow:before {color: black;}#sk-container-id-3 div.sk-toggleable__content {max-height: 0;max-width: 0;overflow: hidden;text-align: left;background-color: #f0f8ff;}#sk-container-id-3 div.sk-toggleable__content pre {margin: 0.2em;color: black;border-radius: 0.25em;background-color: #f0f8ff;}#sk-container-id-3 input.sk-toggleable__control:checked~div.sk-toggleable__content {max-height: 200px;max-width: 100%;overflow: auto;}#sk-container-id-3 input.sk-toggleable__control:checked~label.sk-toggleable__label-arrow:before {content: \"▾\";}#sk-container-id-3 div.sk-estimator input.sk-toggleable__control:checked~label.sk-toggleable__label {background-color: #d4ebff;}#sk-container-id-3 div.sk-label input.sk-toggleable__control:checked~label.sk-toggleable__label {background-color: #d4ebff;}#sk-container-id-3 input.sk-hidden--visually {border: 0;clip: rect(1px 1px 1px 1px);clip: rect(1px, 1px, 1px, 1px);height: 1px;margin: -1px;overflow: hidden;padding: 0;position: absolute;width: 1px;}#sk-container-id-3 div.sk-estimator {font-family: monospace;background-color: #f0f8ff;border: 1px dotted black;border-radius: 0.25em;box-sizing: border-box;margin-bottom: 0.5em;}#sk-container-id-3 div.sk-estimator:hover {background-color: #d4ebff;}#sk-container-id-3 div.sk-parallel-item::after {content: \"\";width: 100%;border-bottom: 1px solid gray;flex-grow: 1;}#sk-container-id-3 div.sk-label:hover label.sk-toggleable__label {background-color: #d4ebff;}#sk-container-id-3 div.sk-serial::before {content: \"\";position: absolute;border-left: 1px solid gray;box-sizing: border-box;top: 0;bottom: 0;left: 50%;z-index: 0;}#sk-container-id-3 div.sk-serial {display: flex;flex-direction: column;align-items: center;background-color: white;padding-right: 0.2em;padding-left: 0.2em;position: relative;}#sk-container-id-3 div.sk-item {position: relative;z-index: 1;}#sk-container-id-3 div.sk-parallel {display: flex;align-items: stretch;justify-content: center;background-color: white;position: relative;}#sk-container-id-3 div.sk-item::before, #sk-container-id-3 div.sk-parallel-item::before {content: \"\";position: absolute;border-left: 1px solid gray;box-sizing: border-box;top: 0;bottom: 0;left: 50%;z-index: -1;}#sk-container-id-3 div.sk-parallel-item {display: flex;flex-direction: column;z-index: 1;position: relative;background-color: white;}#sk-container-id-3 div.sk-parallel-item:first-child::after {align-self: flex-end;width: 50%;}#sk-container-id-3 div.sk-parallel-item:last-child::after {align-self: flex-start;width: 50%;}#sk-container-id-3 div.sk-parallel-item:only-child::after {width: 0;}#sk-container-id-3 div.sk-dashed-wrapped {border: 1px dashed gray;margin: 0 0.4em 0.5em 0.4em;box-sizing: border-box;padding-bottom: 0.4em;background-color: white;}#sk-container-id-3 div.sk-label label {font-family: monospace;font-weight: bold;display: inline-block;line-height: 1.2em;}#sk-container-id-3 div.sk-label-container {text-align: center;}#sk-container-id-3 div.sk-container {/* jupyter's `normalize.less` sets `[hidden] { display: none; }` but bootstrap.min.css set `[hidden] { display: none !important; }` so we also need the `!important` here to be able to override the default hidden behavior on the sphinx rendered scikit-learn.org. See: https://github.com/scikit-learn/scikit-learn/issues/21755 */display: inline-block !important;position: relative;}#sk-container-id-3 div.sk-text-repr-fallback {display: none;}</style><div id=\"sk-container-id-3\" class=\"sk-top-container\"><div class=\"sk-text-repr-fallback\"><pre>XGBClassifier(base_score=0.5, booster=&#x27;gbtree&#x27;, callbacks=None,\n",
       "              colsample_bylevel=1, colsample_bynode=1, colsample_bytree=1,\n",
       "              early_stopping_rounds=None, enable_categorical=False,\n",
       "              eval_metric=None, gamma=0, gpu_id=-1, grow_policy=&#x27;depthwise&#x27;,\n",
       "              importance_type=None, interaction_constraints=&#x27;&#x27;,\n",
       "              learning_rate=0.02, max_bin=256, max_cat_to_onehot=4,\n",
       "              max_delta_step=0, max_depth=5, max_leaves=0, min_child_weight=1,\n",
       "              missing=nan, monotone_constraints=&#x27;()&#x27;, n_estimators=100,\n",
       "              n_jobs=0, num_parallel_tree=1, predictor=&#x27;auto&#x27;, random_state=0,\n",
       "              reg_alpha=0, reg_lambda=5, ...)</pre><b>In a Jupyter environment, please rerun this cell to show the HTML representation or trust the notebook. <br />On GitHub, the HTML representation is unable to render, please try loading this page with nbviewer.org.</b></div><div class=\"sk-container\" hidden><div class=\"sk-item\"><div class=\"sk-estimator sk-toggleable\"><input class=\"sk-toggleable__control sk-hidden--visually\" id=\"sk-estimator-id-3\" type=\"checkbox\" checked><label for=\"sk-estimator-id-3\" class=\"sk-toggleable__label sk-toggleable__label-arrow\">XGBClassifier</label><div class=\"sk-toggleable__content\"><pre>XGBClassifier(base_score=0.5, booster=&#x27;gbtree&#x27;, callbacks=None,\n",
       "              colsample_bylevel=1, colsample_bynode=1, colsample_bytree=1,\n",
       "              early_stopping_rounds=None, enable_categorical=False,\n",
       "              eval_metric=None, gamma=0, gpu_id=-1, grow_policy=&#x27;depthwise&#x27;,\n",
       "              importance_type=None, interaction_constraints=&#x27;&#x27;,\n",
       "              learning_rate=0.02, max_bin=256, max_cat_to_onehot=4,\n",
       "              max_delta_step=0, max_depth=5, max_leaves=0, min_child_weight=1,\n",
       "              missing=nan, monotone_constraints=&#x27;()&#x27;, n_estimators=100,\n",
       "              n_jobs=0, num_parallel_tree=1, predictor=&#x27;auto&#x27;, random_state=0,\n",
       "              reg_alpha=0, reg_lambda=5, ...)</pre></div></div></div></div></div>"
      ],
      "text/plain": [
       "XGBClassifier(base_score=0.5, booster='gbtree', callbacks=None,\n",
       "              colsample_bylevel=1, colsample_bynode=1, colsample_bytree=1,\n",
       "              early_stopping_rounds=None, enable_categorical=False,\n",
       "              eval_metric=None, gamma=0, gpu_id=-1, grow_policy='depthwise',\n",
       "              importance_type=None, interaction_constraints='',\n",
       "              learning_rate=0.02, max_bin=256, max_cat_to_onehot=4,\n",
       "              max_delta_step=0, max_depth=5, max_leaves=0, min_child_weight=1,\n",
       "              missing=nan, monotone_constraints='()', n_estimators=100,\n",
       "              n_jobs=0, num_parallel_tree=1, predictor='auto', random_state=0,\n",
       "              reg_alpha=0, reg_lambda=5, ...)"
      ]
     },
     "execution_count": 52,
     "metadata": {},
     "output_type": "execute_result"
    }
   ],
   "source": [
    "xg.fit(Z_train,y_train)"
   ]
  },
  {
   "cell_type": "code",
   "execution_count": 53,
   "id": "50a34a83-28d8-4424-b525-abf5d0fb81b9",
   "metadata": {},
   "outputs": [],
   "source": [
    "y_test_pred = xg.predict(Z_test)\n",
    "y_train_pred = xg.predict(Z_train)"
   ]
  },
  {
   "cell_type": "code",
   "execution_count": 54,
   "id": "75484ab1-e0c0-46d3-b78f-f9724aca5d18",
   "metadata": {},
   "outputs": [
    {
     "name": "stdout",
     "output_type": "stream",
     "text": [
      "              precision    recall  f1-score   support\n",
      "\n",
      "           0       0.88      0.95      0.91      4945\n",
      "           1       0.79      0.59      0.67      1568\n",
      "\n",
      "    accuracy                           0.86      6513\n",
      "   macro avg       0.83      0.77      0.79      6513\n",
      "weighted avg       0.86      0.86      0.86      6513\n",
      "\n"
     ]
    }
   ],
   "source": [
    "print(classification_report(y_test,y_test_pred))"
   ]
  },
  {
   "cell_type": "code",
   "execution_count": 55,
   "id": "35909923-faae-4998-8792-98044c65b01e",
   "metadata": {},
   "outputs": [
    {
     "name": "stdout",
     "output_type": "stream",
     "text": [
      "              precision    recall  f1-score   support\n",
      "\n",
      "           0       0.88      0.95      0.91     19775\n",
      "           1       0.79      0.58      0.67      6273\n",
      "\n",
      "    accuracy                           0.86     26048\n",
      "   macro avg       0.83      0.77      0.79     26048\n",
      "weighted avg       0.86      0.86      0.85     26048\n",
      "\n"
     ]
    }
   ],
   "source": [
    "print(classification_report(y_train,y_train_pred))"
   ]
  },
  {
   "cell_type": "markdown",
   "id": "18cffd86-7530-4436-9395-e0b3b7be2531",
   "metadata": {},
   "source": [
    "----"
   ]
  },
  {
   "cell_type": "markdown",
   "id": "9a3ff462-a3c6-4aea-89e8-fd489ba5e630",
   "metadata": {
    "tags": []
   },
   "source": [
    "## Generate Prediction "
   ]
  },
  {
   "cell_type": "code",
   "execution_count": 123,
   "id": "c8c856ed-5555-4176-b448-ed14f620db56",
   "metadata": {},
   "outputs": [],
   "source": [
    "test = pd.read_csv('../data/test_data.csv')"
   ]
  },
  {
   "cell_type": "code",
   "execution_count": 124,
   "id": "5acc8509-188f-4c10-b58f-0659c429d953",
   "metadata": {},
   "outputs": [],
   "source": [
    "# Rename columns\n",
    "test.columns = ['age', 'workclass', 'final_weight', 'education',\n",
    "                'education_num','marital_status', 'occupation', 'relationship',\n",
    "                'sex', 'capital_gain','capital_loss', 'hours_per_week',\n",
    "                'native_country']"
   ]
  },
  {
   "cell_type": "code",
   "execution_count": 125,
   "id": "90d59b71-6cba-45e8-a1e5-2e92eda978af",
   "metadata": {},
   "outputs": [],
   "source": [
    "# Drop sex\n",
    "test.drop(columns=['sex'],inplace=True)"
   ]
  },
  {
   "cell_type": "code",
   "execution_count": 127,
   "id": "dcfc4767-2365-403f-9d22-158bbdf4baab",
   "metadata": {},
   "outputs": [],
   "source": [
    "# Remove white space - try except to pass the wage column in cat_cols\n",
    "for cols in cat_cols:\n",
    "    try:\n",
    "        test[cols] = test[cols].str.strip()\n",
    "    except:\n",
    "        pass"
   ]
  },
  {
   "cell_type": "code",
   "execution_count": 128,
   "id": "0cee6d3d-65a0-4f62-bd0e-a8298e3ffcec",
   "metadata": {},
   "outputs": [
    {
     "data": {
      "text/html": [
       "<div>\n",
       "<style scoped>\n",
       "    .dataframe tbody tr th:only-of-type {\n",
       "        vertical-align: middle;\n",
       "    }\n",
       "\n",
       "    .dataframe tbody tr th {\n",
       "        vertical-align: top;\n",
       "    }\n",
       "\n",
       "    .dataframe thead th {\n",
       "        text-align: right;\n",
       "    }\n",
       "</style>\n",
       "<table border=\"1\" class=\"dataframe\">\n",
       "  <thead>\n",
       "    <tr style=\"text-align: right;\">\n",
       "      <th></th>\n",
       "      <th>age</th>\n",
       "      <th>workclass</th>\n",
       "      <th>final_weight</th>\n",
       "      <th>education</th>\n",
       "      <th>education_num</th>\n",
       "      <th>marital_status</th>\n",
       "      <th>occupation</th>\n",
       "      <th>relationship</th>\n",
       "      <th>capital_gain</th>\n",
       "      <th>capital_loss</th>\n",
       "      <th>hours_per_week</th>\n",
       "      <th>native_country</th>\n",
       "    </tr>\n",
       "  </thead>\n",
       "  <tbody>\n",
       "    <tr>\n",
       "      <th>0</th>\n",
       "      <td>25</td>\n",
       "      <td>Private</td>\n",
       "      <td>226802</td>\n",
       "      <td>11th</td>\n",
       "      <td>7</td>\n",
       "      <td>Never-married</td>\n",
       "      <td>Machine-op-inspct</td>\n",
       "      <td>Own-child</td>\n",
       "      <td>0</td>\n",
       "      <td>0</td>\n",
       "      <td>40</td>\n",
       "      <td>United-States</td>\n",
       "    </tr>\n",
       "    <tr>\n",
       "      <th>1</th>\n",
       "      <td>38</td>\n",
       "      <td>Private</td>\n",
       "      <td>89814</td>\n",
       "      <td>HS-grad</td>\n",
       "      <td>9</td>\n",
       "      <td>Married-civ-spouse</td>\n",
       "      <td>Farming-fishing</td>\n",
       "      <td>Husband</td>\n",
       "      <td>0</td>\n",
       "      <td>0</td>\n",
       "      <td>50</td>\n",
       "      <td>United-States</td>\n",
       "    </tr>\n",
       "  </tbody>\n",
       "</table>\n",
       "</div>"
      ],
      "text/plain": [
       "   age workclass  final_weight education  education_num      marital_status  \\\n",
       "0   25   Private        226802      11th              7       Never-married   \n",
       "1   38   Private         89814   HS-grad              9  Married-civ-spouse   \n",
       "\n",
       "          occupation relationship  capital_gain  capital_loss  hours_per_week  \\\n",
       "0  Machine-op-inspct    Own-child             0             0              40   \n",
       "1    Farming-fishing      Husband             0             0              50   \n",
       "\n",
       "  native_country  \n",
       "0  United-States  \n",
       "1  United-States  "
      ]
     },
     "execution_count": 128,
     "metadata": {},
     "output_type": "execute_result"
    }
   ],
   "source": [
    "test.head(2)"
   ]
  },
  {
   "cell_type": "code",
   "execution_count": 79,
   "id": "c70b666b-bfe5-4be7-be6e-81ad4fc1db6c",
   "metadata": {},
   "outputs": [],
   "source": [
    "test['native_country'] = test['native_country'].map({'United-States':'US'})\\\n",
    ".fillna('Other')"
   ]
  },
  {
   "cell_type": "code",
   "execution_count": 80,
   "id": "47c2bd52-411d-4ae1-8552-6ad2c3cba522",
   "metadata": {},
   "outputs": [],
   "source": [
    "# Workclass\n",
    "test['workclass'] = test['workclass'].map({'Self-emp-inc':'Group1',\n",
    "                                           'Federal-gov':'Group2',\n",
    "                                           'Local-gov':'Group3',\n",
    "                                           'Self-emp-not-inc':'Group3',\n",
    "                                           'State-gov':'Group3',\n",
    "                                           'Private':'Group3'}).fillna('Other')"
   ]
  },
  {
   "cell_type": "code",
   "execution_count": 81,
   "id": "2cff9520-bf01-4da9-aa16-7ba8f10acfbe",
   "metadata": {},
   "outputs": [],
   "source": [
    "# Occupation\n",
    "test['occupation'] = test['occupation'].map({'Prof-specialty':'Group1',\n",
    "                                             'Exec-managerial':'Group1',\n",
    "                                             'Protective-serv':'Group2',\n",
    "                                             'Tech-support':'Group2',\n",
    "                                             'Sales':'Group3',\n",
    "                                             'Craft-repair':'Group3',\n",
    "                                             'Transport-moving':'Group3'})\\\n",
    ".fillna('Other')"
   ]
  },
  {
   "cell_type": "code",
   "execution_count": 82,
   "id": "bef7741b-1aa7-49df-9557-544fcb8662ba",
   "metadata": {},
   "outputs": [],
   "source": [
    "# Relationship\n",
    "test['relationship'] = test['relationship'].map({'Husband':1,'Wife':1,\n",
    "                                             'Not-in-family':2}).fillna('Other')"
   ]
  },
  {
   "cell_type": "code",
   "execution_count": 83,
   "id": "eec9f424-f313-48a2-9bb1-c4077ee8f370",
   "metadata": {},
   "outputs": [],
   "source": [
    "# Marital status\n",
    "test['marital_status'] = test['marital_status'].map({'Married-civ-spouse':1,\n",
    "                                                 'Married-AF-spouse':1})\\\n",
    ".fillna('Other')"
   ]
  },
  {
   "cell_type": "code",
   "execution_count": 84,
   "id": "d2911dfe-a0cb-4acb-8881-1d8ce440df40",
   "metadata": {},
   "outputs": [],
   "source": [
    "# Education\n",
    "test['education'] = test['education'].map({'Doctorate':'Group1',\n",
    "                                       'Prof-school':'Group1',\n",
    "                                       'Masters':'Group2',\n",
    "                                       'Bachlors':'Group2'}).fillna('Other')"
   ]
  },
  {
   "cell_type": "code",
   "execution_count": 85,
   "id": "7f1692a1-b74c-437f-89ee-01269ff815c6",
   "metadata": {},
   "outputs": [],
   "source": [
    "# Convert male to 1 female to 0\n",
    "test['is_male'] = test['sex'].map({'Male':1,'Female':0})"
   ]
  },
  {
   "cell_type": "code",
   "execution_count": 87,
   "id": "4853aef5-b806-4a2b-94a1-906f85b2124b",
   "metadata": {},
   "outputs": [],
   "source": [
    "# We will drop final_weight\n",
    "test.drop(columns = ['final_weight'],inplace=True)"
   ]
  },
  {
   "cell_type": "code",
   "execution_count": 88,
   "id": "3635e725-b8f0-4f13-99a1-4a72edece2c0",
   "metadata": {},
   "outputs": [
    {
     "data": {
      "text/html": [
       "<div>\n",
       "<style scoped>\n",
       "    .dataframe tbody tr th:only-of-type {\n",
       "        vertical-align: middle;\n",
       "    }\n",
       "\n",
       "    .dataframe tbody tr th {\n",
       "        vertical-align: top;\n",
       "    }\n",
       "\n",
       "    .dataframe thead th {\n",
       "        text-align: right;\n",
       "    }\n",
       "</style>\n",
       "<table border=\"1\" class=\"dataframe\">\n",
       "  <thead>\n",
       "    <tr style=\"text-align: right;\">\n",
       "      <th></th>\n",
       "      <th>age</th>\n",
       "      <th>workclass</th>\n",
       "      <th>education</th>\n",
       "      <th>education_num</th>\n",
       "      <th>marital_status</th>\n",
       "      <th>occupation</th>\n",
       "      <th>relationship</th>\n",
       "      <th>capital_gain</th>\n",
       "      <th>capital_loss</th>\n",
       "      <th>hours_per_week</th>\n",
       "      <th>native_country</th>\n",
       "      <th>is_male</th>\n",
       "    </tr>\n",
       "  </thead>\n",
       "  <tbody>\n",
       "    <tr>\n",
       "      <th>0</th>\n",
       "      <td>25</td>\n",
       "      <td>Group3</td>\n",
       "      <td>Other</td>\n",
       "      <td>7</td>\n",
       "      <td>Other</td>\n",
       "      <td>Other</td>\n",
       "      <td>Other</td>\n",
       "      <td>0</td>\n",
       "      <td>0</td>\n",
       "      <td>40</td>\n",
       "      <td>US</td>\n",
       "      <td>1</td>\n",
       "    </tr>\n",
       "    <tr>\n",
       "      <th>1</th>\n",
       "      <td>38</td>\n",
       "      <td>Group3</td>\n",
       "      <td>Other</td>\n",
       "      <td>9</td>\n",
       "      <td>1.0</td>\n",
       "      <td>Other</td>\n",
       "      <td>1.0</td>\n",
       "      <td>0</td>\n",
       "      <td>0</td>\n",
       "      <td>50</td>\n",
       "      <td>US</td>\n",
       "      <td>1</td>\n",
       "    </tr>\n",
       "  </tbody>\n",
       "</table>\n",
       "</div>"
      ],
      "text/plain": [
       "   age workclass education  education_num marital_status occupation  \\\n",
       "0   25    Group3     Other              7          Other      Other   \n",
       "1   38    Group3     Other              9            1.0      Other   \n",
       "\n",
       "  relationship  capital_gain  capital_loss  hours_per_week native_country  \\\n",
       "0        Other             0             0              40             US   \n",
       "1          1.0             0             0              50             US   \n",
       "\n",
       "   is_male  \n",
       "0        1  \n",
       "1        1  "
      ]
     },
     "execution_count": 88,
     "metadata": {},
     "output_type": "execute_result"
    }
   ],
   "source": [
    "test.head(2)"
   ]
  },
  {
   "cell_type": "code",
   "execution_count": 89,
   "id": "866c0f05-58bb-4f2b-889f-bc3583e7012d",
   "metadata": {},
   "outputs": [],
   "source": [
    "# Dummy test\n",
    "test = pd.get_dummies(data=test, \n",
    "                      columns = ['native_country','workclass','occupation',\n",
    "                              'education','relationship','marital_status'],\n",
    "                      drop_first = True)"
   ]
  },
  {
   "cell_type": "code",
   "execution_count": 90,
   "id": "b739fea7-4986-41a9-81ce-dd967e1d66e8",
   "metadata": {},
   "outputs": [
    {
     "data": {
      "text/plain": [
       "(16281, 18)"
      ]
     },
     "execution_count": 90,
     "metadata": {},
     "output_type": "execute_result"
    }
   ],
   "source": [
    "test.shape"
   ]
  },
  {
   "cell_type": "code",
   "execution_count": 91,
   "id": "b1985d4d-b1dc-42fd-aa1d-aa42cad56526",
   "metadata": {},
   "outputs": [
    {
     "data": {
      "text/plain": [
       "Index(['age', 'education_num', 'capital_gain', 'capital_loss',\n",
       "       'hours_per_week', 'is_male', 'native_country_US', 'workclass_Group2',\n",
       "       'workclass_Group3', 'workclass_Other', 'occupation_Group2',\n",
       "       'occupation_Group3', 'occupation_Other', 'education_Group2',\n",
       "       'education_Other', 'relationship_2.0', 'relationship_Other',\n",
       "       'marital_status_Other'],\n",
       "      dtype='object')"
      ]
     },
     "execution_count": 91,
     "metadata": {},
     "output_type": "execute_result"
    }
   ],
   "source": [
    "test.columns"
   ]
  },
  {
   "cell_type": "code",
   "execution_count": 92,
   "id": "7d12bde5-5f9d-4c2d-aa9f-47388b09651a",
   "metadata": {},
   "outputs": [],
   "source": [
    "# Scale\n",
    "test_sc = sc.transform(test)"
   ]
  },
  {
   "cell_type": "code",
   "execution_count": 93,
   "id": "85564f48-203a-4687-beb0-978fd7e78d09",
   "metadata": {},
   "outputs": [],
   "source": [
    "y_pred = xg_default.predict(test_sc)"
   ]
  },
  {
   "cell_type": "code",
   "execution_count": 94,
   "id": "b1b79e25-6ac8-4246-bc51-82eb2b311929",
   "metadata": {},
   "outputs": [
    {
     "data": {
      "text/plain": [
       "array([0, 0, 0, ..., 1, 0, 1])"
      ]
     },
     "execution_count": 94,
     "metadata": {},
     "output_type": "execute_result"
    }
   ],
   "source": [
    "y_pred"
   ]
  },
  {
   "cell_type": "code",
   "execution_count": 95,
   "id": "e953c607-7220-492f-be0c-e58c2b078617",
   "metadata": {},
   "outputs": [],
   "source": [
    "submission = pd.DataFrame(data=y_pred,columns=['wage'])"
   ]
  },
  {
   "cell_type": "code",
   "execution_count": 96,
   "id": "160c5632-1809-4135-8426-dbc67b190d09",
   "metadata": {},
   "outputs": [
    {
     "data": {
      "text/html": [
       "<div>\n",
       "<style scoped>\n",
       "    .dataframe tbody tr th:only-of-type {\n",
       "        vertical-align: middle;\n",
       "    }\n",
       "\n",
       "    .dataframe tbody tr th {\n",
       "        vertical-align: top;\n",
       "    }\n",
       "\n",
       "    .dataframe thead th {\n",
       "        text-align: right;\n",
       "    }\n",
       "</style>\n",
       "<table border=\"1\" class=\"dataframe\">\n",
       "  <thead>\n",
       "    <tr style=\"text-align: right;\">\n",
       "      <th></th>\n",
       "      <th>wage</th>\n",
       "    </tr>\n",
       "  </thead>\n",
       "  <tbody>\n",
       "    <tr>\n",
       "      <th>0</th>\n",
       "      <td>0</td>\n",
       "    </tr>\n",
       "    <tr>\n",
       "      <th>1</th>\n",
       "      <td>0</td>\n",
       "    </tr>\n",
       "    <tr>\n",
       "      <th>2</th>\n",
       "      <td>0</td>\n",
       "    </tr>\n",
       "    <tr>\n",
       "      <th>3</th>\n",
       "      <td>1</td>\n",
       "    </tr>\n",
       "    <tr>\n",
       "      <th>4</th>\n",
       "      <td>0</td>\n",
       "    </tr>\n",
       "    <tr>\n",
       "      <th>...</th>\n",
       "      <td>...</td>\n",
       "    </tr>\n",
       "    <tr>\n",
       "      <th>16276</th>\n",
       "      <td>0</td>\n",
       "    </tr>\n",
       "    <tr>\n",
       "      <th>16277</th>\n",
       "      <td>0</td>\n",
       "    </tr>\n",
       "    <tr>\n",
       "      <th>16278</th>\n",
       "      <td>1</td>\n",
       "    </tr>\n",
       "    <tr>\n",
       "      <th>16279</th>\n",
       "      <td>0</td>\n",
       "    </tr>\n",
       "    <tr>\n",
       "      <th>16280</th>\n",
       "      <td>1</td>\n",
       "    </tr>\n",
       "  </tbody>\n",
       "</table>\n",
       "<p>16281 rows × 1 columns</p>\n",
       "</div>"
      ],
      "text/plain": [
       "       wage\n",
       "0         0\n",
       "1         0\n",
       "2         0\n",
       "3         1\n",
       "4         0\n",
       "...     ...\n",
       "16276     0\n",
       "16277     0\n",
       "16278     1\n",
       "16279     0\n",
       "16280     1\n",
       "\n",
       "[16281 rows x 1 columns]"
      ]
     },
     "execution_count": 96,
     "metadata": {},
     "output_type": "execute_result"
    }
   ],
   "source": [
    "submission"
   ]
  },
  {
   "cell_type": "code",
   "execution_count": 97,
   "id": "491bc7de-7a00-4807-ba0e-e2e252eb2c1a",
   "metadata": {},
   "outputs": [],
   "source": [
    "submission.to_csv('../data/kris-eye-predictions.csv',index=False)"
   ]
  }
 ],
 "metadata": {
  "kernelspec": {
   "display_name": "Python 3 (ipykernel)",
   "language": "python",
   "name": "python3"
  },
  "language_info": {
   "codemirror_mode": {
    "name": "ipython",
    "version": 3
   },
   "file_extension": ".py",
   "mimetype": "text/x-python",
   "name": "python",
   "nbconvert_exporter": "python",
   "pygments_lexer": "ipython3",
   "version": "3.9.12"
  }
 },
 "nbformat": 4,
 "nbformat_minor": 5
}
